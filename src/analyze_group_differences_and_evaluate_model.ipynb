{
 "cells": [
  {
   "metadata": {},
   "cell_type": "markdown",
   "source": [
    "# Evaluating the performance of ranking model in Search Everywhere\n",
    "\n",
    "In this project, we will evaluate the effectiveness of a ranking models using a sample dataset. \n",
    "We'll start by exploring the differences between the two experiment groups: 0 and 1.\n",
    "Then we'll assess the model performance using two metrics: MRR and Time-To-Click. Let's start!"
   ],
   "id": "1ae68c27b7458864"
  },
  {
   "metadata": {},
   "cell_type": "markdown",
   "source": "## Testing the Differences Between Groups",
   "id": "8b5ffd127bb57e14"
  },
  {
   "metadata": {
    "collapsed": true,
    "ExecuteTime": {
     "end_time": "2024-11-01T18:53:22.851377Z",
     "start_time": "2024-11-01T18:53:22.847618Z"
    }
   },
   "cell_type": "code",
   "source": [
    "import pandas as pd\n",
    "import json"
   ],
   "id": "initial_id",
   "outputs": [],
   "execution_count": 16
  },
  {
   "metadata": {},
   "cell_type": "markdown",
   "source": [
    "### Loading and organizing the data\n",
    "\n",
    "Let's start by loading the dataset. Then we'll parse the 'event_data' column from json and create a unique identifier for each (device, session) pair. Then we'll also extract the experiment group from the 'event_data' column and divide the dataset into two groups: 0 and 1."
   ],
   "id": "56a268b33b9e45af"
  },
  {
   "metadata": {
    "ExecuteTime": {
     "end_time": "2024-11-01T18:53:24.255737Z",
     "start_time": "2024-11-01T18:53:22.917892Z"
    }
   },
   "cell_type": "code",
   "source": [
    "# Load the dataset\n",
    "df = pd.read_csv('../data/2024InternshipData.csv')\n",
    "\n",
    "# Parse the event_data JSON column\n",
    "df['event_data'] = df['event_data'].apply(json.loads)\n",
    "\n",
    "# Extract session ID and create a unique identifier for each (device, session) pair\n",
    "df['session_id'] = df['event_data'].apply(lambda x: x['session_id'])\n",
    "df['unique_id'] = df['device_id'] + '_' + df['session_id']\n",
    "\n",
    "# Extract experiment groups into a new column\n",
    "df['experimentGroup'] = df['event_data'].apply(lambda x: x['experimentGroup'])\n",
    "\n",
    "# Split the data into experiment groups\n",
    "groups = {\n",
    "    0: df[df['experimentGroup'] == 0],\n",
    "    1: df[df['experimentGroup'] == 1]\n",
    "}"
   ],
   "id": "a4f74b3ec7168be2",
   "outputs": [],
   "execution_count": 17
  },
  {
   "metadata": {},
   "cell_type": "markdown",
   "source": [
    "### Functions for Analysis\n",
    "Now, let's define few functions to help us with our analysis: \n",
    "* `calculate_successful_searches`: for calculating the percentage of successful searches (the ones that finished with user choosing a result)\n",
    "* `calculate_average_session_time`: for computing average session durations, with an option to calculate only successful or unsuccessful ones\n",
    "* `is_session_successful`: a helper function to check if a session was successful\n",
    "\n",
    "These functions will allow us to compare the behaviors of users in each experiment group effectively.\n"
   ],
   "id": "b8860ab01970868e"
  },
  {
   "metadata": {
    "ExecuteTime": {
     "end_time": "2024-11-01T18:53:24.269893Z",
     "start_time": "2024-11-01T18:53:24.262737Z"
    }
   },
   "cell_type": "code",
   "source": [
    "def calculate_successful_searches(df):\n",
    "    successful_searches = len(\n",
    "        df[df['event_data'].apply(lambda x: x['selectedIndexes'] is not None)]\n",
    "    )\n",
    "    finished_searches = len(df[df['event_id'] == 'sessionFinished'])\n",
    "    return successful_searches, successful_searches / finished_searches if finished_searches > 0 else 0\n",
    "\n",
    "def calculate_average_session_time(df, which_ones=\"all\"):\n",
    "    if which_ones == \"all\":\n",
    "        session_durations = df.groupby('unique_id')['time_epoch'].agg(['min', 'max'])\n",
    "    elif which_ones == \"successful\":\n",
    "        successful_sessions = df.groupby('unique_id').filter(is_session_successful)\n",
    "        session_durations = successful_sessions.groupby('unique_id')['time_epoch'].agg(['min', 'max'])\n",
    "    elif which_ones == \"unsuccessful\":\n",
    "        unsuccessful_sessions = df.groupby('unique_id').filter(lambda x: not is_session_successful(x))\n",
    "        session_durations = unsuccessful_sessions.groupby('unique_id')['time_epoch'].agg(['min', 'max'])\n",
    "    else:\n",
    "        raise ValueError(\"Invalid value for 'which_ones'. Use 'all', 'successful', or 'unsuccessful'.\")\n",
    "    \n",
    "    session_durations['duration'] = session_durations['max'] - session_durations['min']\n",
    "    return round(session_durations['duration'].mean() / 1000, 4)  # Convert ms to seconds and round to 4 decimal places\n",
    "\n",
    "def is_session_successful(session):\n",
    "     # Check if any of the actions in the session had selectedIndexes (the session was successful)\n",
    "     return any(session['event_data'].apply(lambda x: x['selectedIndexes'] is not None))"
   ],
   "id": "dc8c1bbaf68214bc",
   "outputs": [],
   "execution_count": 18
  },
  {
   "metadata": {},
   "cell_type": "markdown",
   "source": [
    "### Analyzing the Groups \n",
    "Let’s iterate through each group, calculate some statistics, and print them out to compare the two groups. \n"
   ],
   "id": "989bd9f632af00c3"
  },
  {
   "metadata": {
    "ExecuteTime": {
     "end_time": "2024-11-01T18:53:29.512114Z",
     "start_time": "2024-11-01T18:53:24.302118Z"
    }
   },
   "cell_type": "code",
   "source": [
    "for group_id, group_df in groups.items():\n",
    "    print(f'\\nGroup {group_id} size: {len(group_df)}')\n",
    "\n",
    "    # Successful searches\n",
    "    successful_searches, success_rate = calculate_successful_searches(group_df)\n",
    "    print(f'Group {group_id} successful searches: {successful_searches}')\n",
    "    print(f'Group {group_id} percentage of successful searches: {success_rate:.2%}')\n",
    "\n",
    "    # Average session duration\n",
    "    avg_time_spent = calculate_average_session_time(group_df)\n",
    "    print(f'Group {group_id} average time spent on the Search Everywhere tab: {avg_time_spent}s')\n",
    "    \n",
    "    # Average successful session duration\n",
    "    avg_successful_time_spent = calculate_average_session_time(group_df, which_ones=\"successful\")\n",
    "    print(f'Group {group_id} average time spent on successful searches: {avg_successful_time_spent}s')\n",
    "    \n",
    "    # Average unsuccessful session duration\n",
    "    avg_unsuccessful_time_spent = calculate_average_session_time(group_df, which_ones=\"unsuccessful\")\n",
    "    print(f'Group {group_id} average time spent on unsuccessful searches: {avg_unsuccessful_time_spent}s')"
   ],
   "id": "9352708463ae8548",
   "outputs": [
    {
     "name": "stdout",
     "output_type": "stream",
     "text": [
      "\n",
      "Group 0 size: 51012\n",
      "Group 0 successful searches: 4193\n",
      "Group 0 percentage of successful searches: 57.58%\n",
      "Group 0 average time spent on the Search Everywhere tab: 25.7688s\n",
      "Group 0 average time spent on successful searches: 25.6835s\n",
      "Group 0 average time spent on unsuccessful searches: 25.8836s\n",
      "\n",
      "Group 1 size: 56332\n",
      "Group 1 successful searches: 4535\n",
      "Group 1 percentage of successful searches: 56.66%\n",
      "Group 1 average time spent on the Search Everywhere tab: 25.7726s\n",
      "Group 1 average time spent on successful searches: 25.5114s\n",
      "Group 1 average time spent on unsuccessful searches: 26.1109s\n"
     ]
    }
   ],
   "execution_count": 19
  },
  {
   "metadata": {},
   "cell_type": "markdown",
   "source": [
    "### Observations\n",
    "As we can see, the groups don't seem to have significant differences in terms of sizes, successful searches and average session durations. In fact, regarding the statistics we calculated, the two groups are almost identical."
   ],
   "id": "93da4a846c5d6746"
  },
  {
   "metadata": {},
   "cell_type": "markdown",
   "source": [
    "## Evaluating the Ranking Model\n",
    "\n",
    "Now, let's evaluate the ranking model using two metrics: Mean Reciprocal Rank (MRR) and Time-To-Click (TTC). We'll calculate these metrics for each group and compare the results. Then we'll calculate the overall MRR and TTC for the entire dataset."
   ],
   "id": "1a3eec65e1a9f752"
  },
  {
   "metadata": {},
   "cell_type": "markdown",
   "source": [
    "### Mean Reciprocal Rank (MRR)\n",
    "We'll start by creating a function to calculate the Reciporal Rank for each unique session."
   ],
   "id": "3795dc0996c2a6a7"
  },
  {
   "metadata": {
    "ExecuteTime": {
     "end_time": "2024-11-01T18:53:29.547520Z",
     "start_time": "2024-11-01T18:53:29.542230Z"
    }
   },
   "cell_type": "code",
   "source": [
    "def calculate_rr(session):\n",
    "    selected_indexes = session.apply(lambda x: x['selectedIndexes'])\n",
    "    \n",
    "    valid_indexes = selected_indexes[selected_indexes.notnull()]\n",
    "    \n",
    "    # Extract the valid list of indexes and the first selected index from it\n",
    "    return 1 / (valid_indexes.iloc[0][0] + 1) if not valid_indexes.empty else 0"
   ],
   "id": "bbe2c7e39810bc49",
   "outputs": [],
   "execution_count": 20
  },
  {
   "metadata": {},
   "cell_type": "markdown",
   "source": "Now, let's create a function to calculate the Mean Reciprocal Rank (MRR) for a given dataframe.",
   "id": "d4eaba25349bf416"
  },
  {
   "metadata": {
    "ExecuteTime": {
     "end_time": "2024-11-01T19:36:04.061833Z",
     "start_time": "2024-11-01T19:36:00.057267Z"
    }
   },
   "cell_type": "code",
   "source": [
    "def calculate_mrr(df):\n",
    "    return df.groupby('unique_id')['event_data'].agg(calculate_rr).mean()\n",
    "    \n",
    "\n",
    "print(f'\\nMRR for Group 0: {calculate_mrr(groups[0]):.4f}')\n",
    "print(f'MRR for Group 1: {calculate_mrr(groups[1]):.4f}')"
   ],
   "id": "cc0de403f81e5e37",
   "outputs": [
    {
     "name": "stdout",
     "output_type": "stream",
     "text": [
      "\n",
      "MRR for Group 0: 0.1953\n",
      "MRR for Group 1: 0.2164\n"
     ]
    }
   ],
   "execution_count": 114
  },
  {
   "metadata": {},
   "cell_type": "markdown",
   "source": "As we can see, the model was a bit more gracious for group 1 users and gave them better suggestions (according to the MRR metric). Now let's analyze the model effectiveness using Time-To-Click metric (based on the time between entering the first character and choosing a result).",
   "id": "fbdb5cd07b2fa092"
  },
  {
   "metadata": {},
   "cell_type": "markdown",
   "source": [
    "### Time-To-Click\n",
    "Similarily to MRR, we'll start by creating a function to calculate the time between the second event in the session (because the first one is opening the tab) and the last event (selecting a result or closing the tab)."
   ],
   "id": "8fa2ad0c723f9f8c"
  },
  {
   "metadata": {
    "ExecuteTime": {
     "end_time": "2024-11-01T19:32:24.468915Z",
     "start_time": "2024-11-01T19:32:24.464988Z"
    }
   },
   "cell_type": "code",
   "source": [
    "def calculate_time(session):\n",
    "    time = session['time_epoch']\n",
    "    # Chose the second minimum time and subtract it from the maximum time\n",
    "    return time.max() - time.nsmallest(2).iloc[1] if len(time) > 1 else 0"
   ],
   "id": "5307a4f51fd063bd",
   "outputs": [],
   "execution_count": 104
  },
  {
   "metadata": {},
   "cell_type": "markdown",
   "source": [
    "Next, we'll create a function to convert the time to the TTC metric, by applying normalization and\n",
    "then subtracting it from 1 (to get the higher values for smaller times - the faster the user clicked, the better). For unsuccesful searches, we'll return 0."
   ],
   "id": "5d47717a177fb578"
  },
  {
   "metadata": {
    "ExecuteTime": {
     "end_time": "2024-11-01T19:33:59.520226Z",
     "start_time": "2024-11-01T19:33:59.514925Z"
    }
   },
   "cell_type": "code",
   "source": [
    "import numpy as np\n",
    "\n",
    "def calculate_normalized_time(session):\n",
    "    return 1 - np.tanh(calculate_time(session)) if is_session_successful(session) else 0"
   ],
   "id": "e77afa053a7766ef",
   "outputs": [],
   "execution_count": 110
  },
  {
   "metadata": {},
   "cell_type": "markdown",
   "source": "Finally, let's calculate the Time-To-Click metric for each group and compare the results.",
   "id": "28d39d90812291c9"
  },
  {
   "metadata": {
    "ExecuteTime": {
     "end_time": "2024-11-01T19:35:38.677273Z",
     "start_time": "2024-11-01T19:35:32.450285Z"
    }
   },
   "cell_type": "code",
   "source": [
    "def calculate_ttc(df):\n",
    "    return df.groupby('unique_id').apply(calculate_normalized_time, include_groups=False).mean()\n",
    "\n",
    "print(f'\\nTTC for Group 0: {calculate_ttc(groups[0]):.4f}')\n",
    "print(f'TTC for Group 1: {calculate_ttc(groups[1]):.4f}')"
   ],
   "id": "85a891069d7c456f",
   "outputs": [
    {
     "name": "stdout",
     "output_type": "stream",
     "text": [
      "\n",
      "TTC for Group 0: 0.1219\n",
      "TTC for Group 1: 0.1176\n"
     ]
    }
   ],
   "execution_count": 113
  },
  {
   "metadata": {},
   "cell_type": "markdown",
   "source": "Interestingly enough, the model performed better for group 0 users this time. Or the group 1 users just clicked on the results slower...",
   "id": "b9633f3e7cde2cd7"
  },
  {
   "metadata": {},
   "cell_type": "markdown",
   "source": [
    "### Last but not least\n",
    "At last, lets calculate the overall MRR and TTC for the entire dataset and combine them into a single metric, which\n",
    "I'll call RAT (Rank And Time) - the mean of MRR and TTC."
   ],
   "id": "1102dc069f90cb50"
  },
  {
   "metadata": {
    "ExecuteTime": {
     "end_time": "2024-11-01T19:42:40.342733Z",
     "start_time": "2024-11-01T19:42:30.263245Z"
    }
   },
   "cell_type": "code",
   "source": [
    "mrr = calculate_mrr(df)\n",
    "print(f'\\nOverall MRR: {mrr:.4f}')\n",
    "ttc = calculate_ttc(df)\n",
    "print(f'Overall TTC: {ttc:.4f}')\n",
    "rat = (mrr + ttc) / 2\n",
    "print(f'Overall RAT: {rat:.4f}')\n"
   ],
   "id": "965c103b2dbba993",
   "outputs": [
    {
     "name": "stdout",
     "output_type": "stream",
     "text": [
      "\n",
      "Overall MRR: 0.2063\n",
      "Overall TTC: 0.1196\n",
      "Overall RAT: 0.1630\n"
     ]
    }
   ],
   "execution_count": 117
  },
  {
   "metadata": {},
   "cell_type": "markdown",
   "source": [
    "## Conclusion\n",
    "We started this project with analyzing the differences between to experiment groups, gathered some statistics and found out that the groups are almost identical in terms of their interactions with the Search Everywhere tab. Then, we evaluated the ranking model using two metrics: Mean Reciprocal Rank (MRR) and Time-To-Click (TTC). The model seemed to perform slightly better for group 1 users in terms of MRR and for group 0 users in terms of TTC. Finally, we calculated the overall MRR and TTC for the entire dataset and combined them into a single metric called RAT. The RAT value gives us a good overview of the model's performance in terms of both ranking and time-to-click. It doesn't really tell us much about the model's performance itself, but it gives us a way to compare different models or model versions. "
   ],
   "id": "2ebad92d3745683d"
  }
 ],
 "metadata": {
  "kernelspec": {
   "display_name": "Python 3",
   "language": "python",
   "name": "python3"
  },
  "language_info": {
   "codemirror_mode": {
    "name": "ipython",
    "version": 2
   },
   "file_extension": ".py",
   "mimetype": "text/x-python",
   "name": "python",
   "nbconvert_exporter": "python",
   "pygments_lexer": "ipython2",
   "version": "2.7.6"
  }
 },
 "nbformat": 4,
 "nbformat_minor": 5
}
