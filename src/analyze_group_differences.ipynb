{
 "cells": [
  {
   "metadata": {},
   "cell_type": "markdown",
   "source": [
    "# Evaluating the performance of ranking model in Search Everywhere\n",
    "\n",
    "In this project, we will evaluate the effectiveness of a ranking models using a sample dataset. \n",
    "We'll start by exploring the differences between the two experiment groups: 0 and 1.\n",
    "Then we'll assess the model performance using two metrics: MRR and Time-To-Click. Let's start!"
   ],
   "id": "1ae68c27b7458864"
  },
  {
   "metadata": {
    "collapsed": true,
    "ExecuteTime": {
     "end_time": "2024-11-01T15:05:31.754914Z",
     "start_time": "2024-11-01T15:05:31.114742Z"
    }
   },
   "cell_type": "code",
   "source": [
    "import pandas as pd\n",
    "import json"
   ],
   "id": "initial_id",
   "outputs": [],
   "execution_count": 1
  },
  {
   "metadata": {},
   "cell_type": "markdown",
   "source": [
    "### Loading and organizing the data\n",
    "\n",
    "Let's start by loading the dataset. Then we'll parse the 'event_data' column from json and create a unique identifier for each (device, session) pair. Then we'll also extract the experiment group from the 'event_data' column and divide the dataset into two groups: 0 and 1."
   ],
   "id": "56a268b33b9e45af"
  },
  {
   "metadata": {
    "ExecuteTime": {
     "end_time": "2024-11-01T15:05:32.823173Z",
     "start_time": "2024-11-01T15:05:31.771932Z"
    }
   },
   "cell_type": "code",
   "source": [
    "# Load the dataset\n",
    "df = pd.read_csv('../data/2024InternshipData.csv')\n",
    "\n",
    "# Parse the event_data JSON column\n",
    "df['event_data'] = df['event_data'].apply(json.loads)\n",
    "\n",
    "# Extract session ID and create a unique identifier for each (device, session) pair\n",
    "df['session_id'] = df['event_data'].apply(lambda x: x['session_id'])\n",
    "df['unique_id'] = df['device_id'] + '_' + df['session_id']\n",
    "\n",
    "# Extract experiment groups into a new column\n",
    "df['experimentGroup'] = df['event_data'].apply(lambda x: x['experimentGroup'])\n",
    "\n",
    "# Split the data into experiment groups\n",
    "groups = {\n",
    "    0: df[df['experimentGroup'] == 0],\n",
    "    1: df[df['experimentGroup'] == 1]\n",
    "}"
   ],
   "id": "a4f74b3ec7168be2",
   "outputs": [],
   "execution_count": 2
  },
  {
   "metadata": {},
   "cell_type": "markdown",
   "source": [
    "### Functions for Analysis\n",
    "Now, let's define two functions to help us with our analysis: one for calculating the percentage of successful searches (the ones that finished with user choosing a result) and another for computing average session durations. \n",
    "These functions will allow us to compare the behaviors of users in each experiment group effectively.\n"
   ],
   "id": "b8860ab01970868e"
  },
  {
   "metadata": {
    "ExecuteTime": {
     "end_time": "2024-11-01T15:05:33.017441Z",
     "start_time": "2024-11-01T15:05:33.012541Z"
    }
   },
   "cell_type": "code",
   "source": [
    "def calculate_successful_searches(df_group):\n",
    "    successful_searches = len(\n",
    "        df_group[df_group['event_data'].apply(lambda x: x['selectedIndexes'] is not None)]\n",
    "    )\n",
    "    finished_searches = len(df_group[df_group['event_id'] == 'sessionFinished'])\n",
    "    return successful_searches, successful_searches / finished_searches if finished_searches > 0 else 0\n",
    "\n",
    "def calculate_average_session_time(df_group):\n",
    "    session_durations = df_group.groupby('unique_id')['time_epoch'].agg(['min', 'max'])\n",
    "    session_durations['duration'] = session_durations['max'] - session_durations['min']\n",
    "    return round(session_durations['duration'].mean() / 1000, 4)  # Convert ms to seconds and round to 4 decimal places\n"
   ],
   "id": "dc8c1bbaf68214bc",
   "outputs": [],
   "execution_count": 3
  },
  {
   "metadata": {},
   "cell_type": "markdown",
   "source": [
    "### Analyzing and Printing Results\n",
    "Let’s iterate through each group, calculate successful searches, the percentage of them, and average session duration. \n",
    "We’ll print out our findings to compare the two groups.\n"
   ],
   "id": "989bd9f632af00c3"
  },
  {
   "metadata": {
    "ExecuteTime": {
     "end_time": "2024-11-01T15:05:33.133679Z",
     "start_time": "2024-11-01T15:05:33.039868Z"
    }
   },
   "cell_type": "code",
   "source": [
    "for group_id, group_df in groups.items():\n",
    "    print(f'\\nGroup {group_id} size: {len(group_df)}')\n",
    "\n",
    "    # Successful searches\n",
    "    successful_searches, success_rate = calculate_successful_searches(group_df)\n",
    "    print(f'Group {group_id} successful searches: {successful_searches}')\n",
    "    print(f'Group {group_id} percentage of successful searches: {success_rate:.2%}')\n",
    "\n",
    "    # Average session duration\n",
    "    avg_time_spent = calculate_average_session_time(group_df)\n",
    "    print(f'Group {group_id} average time spent on the Search Everywhere tab: {avg_time_spent}s')"
   ],
   "id": "9352708463ae8548",
   "outputs": [
    {
     "name": "stdout",
     "output_type": "stream",
     "text": [
      "\n",
      "Group 0 size: 51012\n",
      "Group 0 successful searches: 4193\n",
      "Group 0 percentage of successful searches: 57.58%\n",
      "Group 0 average time spent on the Search Everywhere tab: 25.7688s\n",
      "\n",
      "Group 1 size: 56332\n",
      "Group 1 successful searches: 4535\n",
      "Group 1 percentage of successful searches: 56.66%\n",
      "Group 1 average time spent on the Search Everywhere tab: 25.7726s\n"
     ]
    }
   ],
   "execution_count": 4
  }
 ],
 "metadata": {
  "kernelspec": {
   "display_name": "Python 3",
   "language": "python",
   "name": "python3"
  },
  "language_info": {
   "codemirror_mode": {
    "name": "ipython",
    "version": 2
   },
   "file_extension": ".py",
   "mimetype": "text/x-python",
   "name": "python",
   "nbconvert_exporter": "python",
   "pygments_lexer": "ipython2",
   "version": "2.7.6"
  }
 },
 "nbformat": 4,
 "nbformat_minor": 5
}
