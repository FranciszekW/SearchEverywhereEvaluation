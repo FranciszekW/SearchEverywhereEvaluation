{
 "cells": [
  {
   "metadata": {},
   "cell_type": "markdown",
   "source": [
    "# Evaluating the performance of ranking model in Search Everywhere\n",
    "\n",
    "In this project, we will evaluate the effectiveness of a ranking models using a sample dataset. \n",
    "We'll start by exploring the differences between the two experiment groups: 0 and 1.\n",
    "Then we'll assess the model performance using two metrics: MRR and Time-To-Click. Let's start!"
   ],
   "id": "1ae68c27b7458864"
  },
  {
   "metadata": {},
   "cell_type": "markdown",
   "source": "## Testing the Differences Between Groups",
   "id": "8b5ffd127bb57e14"
  },
  {
   "metadata": {
    "collapsed": true,
    "ExecuteTime": {
     "end_time": "2024-11-01T15:05:31.754914Z",
     "start_time": "2024-11-01T15:05:31.114742Z"
    }
   },
   "cell_type": "code",
   "source": [
    "import pandas as pd\n",
    "import json"
   ],
   "id": "initial_id",
   "outputs": [],
   "execution_count": 1
  },
  {
   "metadata": {},
   "cell_type": "markdown",
   "source": [
    "### Loading and organizing the data\n",
    "\n",
    "Let's start by loading the dataset. Then we'll parse the 'event_data' column from json and create a unique identifier for each (device, session) pair. Then we'll also extract the experiment group from the 'event_data' column and divide the dataset into two groups: 0 and 1."
   ],
   "id": "56a268b33b9e45af"
  },
  {
   "metadata": {
    "ExecuteTime": {
     "end_time": "2024-11-01T15:05:32.823173Z",
     "start_time": "2024-11-01T15:05:31.771932Z"
    }
   },
   "cell_type": "code",
   "source": [
    "# Load the dataset\n",
    "df = pd.read_csv('../data/2024InternshipData.csv')\n",
    "\n",
    "# Parse the event_data JSON column\n",
    "df['event_data'] = df['event_data'].apply(json.loads)\n",
    "\n",
    "# Extract session ID and create a unique identifier for each (device, session) pair\n",
    "df['session_id'] = df['event_data'].apply(lambda x: x['session_id'])\n",
    "df['unique_id'] = df['device_id'] + '_' + df['session_id']\n",
    "\n",
    "# Extract experiment groups into a new column\n",
    "df['experimentGroup'] = df['event_data'].apply(lambda x: x['experimentGroup'])\n",
    "\n",
    "# Split the data into experiment groups\n",
    "groups = {\n",
    "    0: df[df['experimentGroup'] == 0],\n",
    "    1: df[df['experimentGroup'] == 1]\n",
    "}"
   ],
   "id": "a4f74b3ec7168be2",
   "outputs": [],
   "execution_count": 2
  },
  {
   "metadata": {},
   "cell_type": "markdown",
   "source": [
    "### Functions for Analysis\n",
    "Now, let's define few functions to help us with our analysis: \n",
    "* `calculate_successful_searches`: for calculating the percentage of successful searches (the ones that finished with user choosing a result)\n",
    "* `calculate_average_session_time`: for computing average session durations, with an option to calculate only successful or unsuccessful ones\n",
    "* `is_session_successful`: a helper function to check if a session was successful\n",
    "\n",
    "These functions will allow us to compare the behaviors of users in each experiment group effectively.\n"
   ],
   "id": "b8860ab01970868e"
  },
  {
   "metadata": {
    "ExecuteTime": {
     "end_time": "2024-11-01T15:37:51.949091Z",
     "start_time": "2024-11-01T15:37:51.941587Z"
    }
   },
   "cell_type": "code",
   "source": [
    "def calculate_successful_searches(df):\n",
    "    successful_searches = len(\n",
    "        df[df['event_data'].apply(lambda x: x['selectedIndexes'] is not None)]\n",
    "    )\n",
    "    finished_searches = len(df[df['event_id'] == 'sessionFinished'])\n",
    "    return successful_searches, successful_searches / finished_searches if finished_searches > 0 else 0\n",
    "\n",
    "def calculate_average_session_time(df, which_ones=\"all\"):\n",
    "    if which_ones == \"all\":\n",
    "        session_durations = df.groupby('unique_id')['time_epoch'].agg(['min', 'max'])\n",
    "    elif which_ones == \"successful\":\n",
    "        successful_sessions = df.groupby('unique_id').filter(is_session_successful)\n",
    "        session_durations = successful_sessions.groupby('unique_id')['time_epoch'].agg(['min', 'max'])\n",
    "    elif which_ones == \"unsuccessful\":\n",
    "        unsuccessful_sessions = df.groupby('unique_id').filter(lambda x: not is_session_successful(x))\n",
    "        session_durations = unsuccessful_sessions.groupby('unique_id')['time_epoch'].agg(['min', 'max'])\n",
    "    else:\n",
    "        raise ValueError(\"Invalid value for 'which_ones'. Use 'all', 'successful', or 'unsuccessful'.\")\n",
    "    \n",
    "    session_durations['duration'] = session_durations['max'] - session_durations['min']\n",
    "    return round(session_durations['duration'].mean() / 1000, 4)  # Convert ms to seconds and round to 4 decimal places\n",
    "\n",
    "def is_session_successful(session):\n",
    "     # Check if any of the actions in the session had selectedIndexes (the session was successful)\n",
    "     return any(session['event_data'].apply(lambda x: x['selectedIndexes'] is not None))"
   ],
   "id": "dc8c1bbaf68214bc",
   "outputs": [],
   "execution_count": 11
  },
  {
   "metadata": {},
   "cell_type": "markdown",
   "source": [
    "### Analyzing the Groups \n",
    "Let’s iterate through each group, calculate some statistics, and print them out to compare the two groups. \n"
   ],
   "id": "989bd9f632af00c3"
  },
  {
   "metadata": {
    "ExecuteTime": {
     "end_time": "2024-11-01T15:37:58.915712Z",
     "start_time": "2024-11-01T15:37:53.910901Z"
    }
   },
   "cell_type": "code",
   "source": [
    "for group_id, group_df in groups.items():\n",
    "    print(f'\\nGroup {group_id} size: {len(group_df)}')\n",
    "\n",
    "    # Successful searches\n",
    "    successful_searches, success_rate = calculate_successful_searches(group_df)\n",
    "    print(f'Group {group_id} successful searches: {successful_searches}')\n",
    "    print(f'Group {group_id} percentage of successful searches: {success_rate:.2%}')\n",
    "\n",
    "    # Average session duration\n",
    "    avg_time_spent = calculate_average_session_time(group_df)\n",
    "    print(f'Group {group_id} average time spent on the Search Everywhere tab: {avg_time_spent}s')\n",
    "    \n",
    "    # Average successful session duration\n",
    "    avg_successful_time_spent = calculate_average_session_time(group_df, which_ones=\"successful\")\n",
    "    print(f'Group {group_id} average time spent on successful searches: {avg_successful_time_spent}s')\n",
    "    \n",
    "    # Average unsuccessful session duration\n",
    "    avg_unsuccessful_time_spent = calculate_average_session_time(group_df, which_ones=\"unsuccessful\")\n",
    "    print(f'Group {group_id} average time spent on unsuccessful searches: {avg_unsuccessful_time_spent}s')"
   ],
   "id": "9352708463ae8548",
   "outputs": [
    {
     "name": "stdout",
     "output_type": "stream",
     "text": [
      "\n",
      "Group 0 size: 51012\n",
      "Group 0 successful searches: 4193\n",
      "Group 0 percentage of successful searches: 57.58%\n",
      "Group 0 average time spent on the Search Everywhere tab: 25.7688s\n",
      "Group 0 average time spent on successful searches: 25.6835s\n",
      "Group 0 average time spent on unsuccessful searches: 25.8836s\n",
      "\n",
      "Group 1 size: 56332\n",
      "Group 1 successful searches: 4535\n",
      "Group 1 percentage of successful searches: 56.66%\n",
      "Group 1 average time spent on the Search Everywhere tab: 25.7726s\n",
      "Group 1 average time spent on successful searches: 25.5114s\n",
      "Group 1 average time spent on unsuccessful searches: 26.1109s\n"
     ]
    }
   ],
   "execution_count": 12
  },
  {
   "metadata": {},
   "cell_type": "markdown",
   "source": [
    "### Observations\n",
    "As we can see, the groups don't seem to have significant differences in terms of sizes, successful searches and average session durations. In fact, regarding the statistics we calculated, the two groups are almost identical."
   ],
   "id": "93da4a846c5d6746"
  },
  {
   "metadata": {},
   "cell_type": "markdown",
   "source": [
    "## Evaluating the Ranking Model\n",
    "\n",
    "Now, let's evaluate the ranking model using two metrics: Mean Reciprocal Rank (MRR) and Time-To-Click (TTC). We'll calculate these metrics for each group and compare the results. Then we'll calculate the overall MRR and TTC for the entire dataset."
   ],
   "id": "1a3eec65e1a9f752"
  },
  {
   "metadata": {},
   "cell_type": "markdown",
   "source": [
    "### Mean Reciprocal Rank (MRR)\n",
    "We'll start by creating a function to calculate the Reciporal Rank for each unique session."
   ],
   "id": "3795dc0996c2a6a7"
  },
  {
   "metadata": {
    "ExecuteTime": {
     "end_time": "2024-11-01T16:16:50.432169Z",
     "start_time": "2024-11-01T16:16:50.427365Z"
    }
   },
   "cell_type": "code",
   "source": [
    "def calculate_rr(session):\n",
    "    selected_indexes = session['event_data'].apply(lambda x: x['selectedIndexes'])\n",
    "    \n",
    "    valid_indexes = selected_indexes[selected_indexes.notnull()]\n",
    "    \n",
    "    # Extract the valid list of indexes and the first selected index from it\n",
    "    return 1 / (valid_indexes.iloc[0][0] + 1) if not valid_indexes.empty else 0 "
   ],
   "id": "bbe2c7e39810bc49",
   "outputs": [],
   "execution_count": 26
  },
  {
   "metadata": {},
   "cell_type": "markdown",
   "source": "Now, let's create a function to calculate the Mean Reciprocal Rank (MRR) for a given dataframe.",
   "id": "d4eaba25349bf416"
  },
  {
   "metadata": {
    "ExecuteTime": {
     "end_time": "2024-11-01T16:17:00.604193Z",
     "start_time": "2024-11-01T16:16:50.990939Z"
    }
   },
   "cell_type": "code",
   "source": [
    "def calculate_mrr(df):\n",
    "    return df.groupby('unique_id').apply(calculate_rr).mean()\n",
    "    \n",
    "\n",
    "print(f'MRR for Group 0: {calculate_mrr(groups[0]):.4f}')\n",
    "print(f'\\nMRR for Group 1: {calculate_mrr(groups[1]):.4f}')\n",
    "print(f'\\nOverall MRR: {calculate_mrr(df):.4f}')"
   ],
   "id": "cc0de403f81e5e37",
   "outputs": [
    {
     "name": "stderr",
     "output_type": "stream",
     "text": [
      "C:\\Users\\User\\AppData\\Local\\Temp\\ipykernel_91816\\4285291439.py:2: DeprecationWarning: DataFrameGroupBy.apply operated on the grouping columns. This behavior is deprecated, and in a future version of pandas the grouping columns will be excluded from the operation. Either pass `include_groups=False` to exclude the groupings or explicitly select the grouping columns after groupby to silence this warning.\n",
      "  return df.groupby('unique_id').apply(calculate_rr).mean()\n"
     ]
    },
    {
     "name": "stdout",
     "output_type": "stream",
     "text": [
      "MRR for Group 0: 0.1953\n"
     ]
    },
    {
     "name": "stderr",
     "output_type": "stream",
     "text": [
      "C:\\Users\\User\\AppData\\Local\\Temp\\ipykernel_91816\\4285291439.py:2: DeprecationWarning: DataFrameGroupBy.apply operated on the grouping columns. This behavior is deprecated, and in a future version of pandas the grouping columns will be excluded from the operation. Either pass `include_groups=False` to exclude the groupings or explicitly select the grouping columns after groupby to silence this warning.\n",
      "  return df.groupby('unique_id').apply(calculate_rr).mean()\n"
     ]
    },
    {
     "name": "stdout",
     "output_type": "stream",
     "text": [
      "\n",
      "MRR for Group 1: 0.2164\n",
      "\n",
      "Overall MRR: 0.2063\n"
     ]
    },
    {
     "name": "stderr",
     "output_type": "stream",
     "text": [
      "C:\\Users\\User\\AppData\\Local\\Temp\\ipykernel_91816\\4285291439.py:2: DeprecationWarning: DataFrameGroupBy.apply operated on the grouping columns. This behavior is deprecated, and in a future version of pandas the grouping columns will be excluded from the operation. Either pass `include_groups=False` to exclude the groupings or explicitly select the grouping columns after groupby to silence this warning.\n",
      "  return df.groupby('unique_id').apply(calculate_rr).mean()\n"
     ]
    }
   ],
   "execution_count": 27
  },
  {
   "metadata": {},
   "cell_type": "markdown",
   "source": "",
   "id": "fbdb5cd07b2fa092"
  }
 ],
 "metadata": {
  "kernelspec": {
   "display_name": "Python 3",
   "language": "python",
   "name": "python3"
  },
  "language_info": {
   "codemirror_mode": {
    "name": "ipython",
    "version": 2
   },
   "file_extension": ".py",
   "mimetype": "text/x-python",
   "name": "python",
   "nbconvert_exporter": "python",
   "pygments_lexer": "ipython2",
   "version": "2.7.6"
  }
 },
 "nbformat": 4,
 "nbformat_minor": 5
}
